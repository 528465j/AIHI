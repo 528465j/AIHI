{
 "cells": [
  {
   "cell_type": "markdown",
   "id": "c0496d55-7071-46fe-aed7-71a94fc637ce",
   "metadata": {},
   "source": [
    "<div style=\"text-align:center; font-weight:bold; text-transform:uppercase; font-family:Verdana; font-size:34px; color:#333333; border-left: 2px solid red; border-right: 2px solid red; border-top: 5px solid red; padding: 0px;\">Dermoscopic Image Classification of Melanoma</div>"
   ]
  },
  {
   "cell_type": "markdown",
   "id": "8022788a-7f17-4f83-9bc1-58e6f1c11c05",
   "metadata": {},
   "source": [
    "<div style=\"border-right: 3px solid red; border-left: 3px solid red; padding: 15px; font-family: Verdana;\">\r\n",
    "  <h3 style=\"color: red; display: inline;\">Source of Data:</h3><span style=\"font-weight: bold;\"> Kaggle.com</span>\r\n",
    "  <p><span style=\"font-weight: bold; color: black;\">Redirect to data:</span> \r\n",
    "  <a href=\"https://www.kaggle.com/datasets/andrewmvd/isic-2019\" style=\"background-color: #20BEFF; color: black; padding: 5px 10px; text-decoration: none; border-radius: 3px;\">Kaggle Link</a></p>\r\n",
    "\r\n",
    "  <div style=\"padding: 5px 10px; border: 1px solid red; border-radius: 5px;\">\r\n",
    "    <h3 style=\"color: red;\">Description:</h3>\r\n",
    "    <p>This dataset contains the training data for the ISIC 2019 challenge, note that it already includes data from previous years (2018 and 2017).</p>\r\n",
    "    <p>The dataset for ISIC 2019 contains 25,331 images available for the classification of dermoscopic images among nine different diagnostic categories:</p>\r\n",
    "    <ol>\r\n",
    "      <li>Melanoma</li>\r\n",
    "      <li>Melanocytic nevus</li>\r\n",
    "      <li>Basal cell carcinoma</li>\r\n",
    "      <li>Actinic keratosis</li>\r\n",
    "      <li>Benign keratosis (solar lentigo / seborrheic keratosis / lichen planus-like keratosis)</li>\r\n",
    "      <li>Dermatofibroma</li>\r\n",
    "      <li>Vascular lesion</li>\r\n",
    "      <li>Squamous cell carcinoma</li>\r\n",
    "      <li>None of the above</li>\r\n",
    "    </ol>\r\n",
    "  </div>\r\n",
    "\r\n",
    "  <h3 style=\"color: red;\">Platform:</h3>\r\n",
    "  <p>GADI, National Computational Infrastructure</p>\r\n",
    "  <h3 style=\"color: red;\">Project Code:</h3>\r\n",
    "  <p>xw97</p>\r\n",
    "\r\n",
    "  <h3 style=\"color: red;\">Analyst Details:</h3>\r\n",
    "  <ul>\r\n",
    "    <li><strong>ID:</strong> jj7317</li>\r\n",
    "    <li><strong>Name:</strong> Jatin Jassi</li>\r\n",
    "  </ul>\r\n",
    "\r\n",
    "  <h3 style=\"color: red;\">Notebook Author:</h3>\r\n",
    "  <p>Jatin Jassi</p>\r\n",
    "</div>\r\n"
   ]
  },
  {
   "cell_type": "markdown",
   "id": "36161527-f39e-4e6a-8108-bed3c2539ac6",
   "metadata": {},
   "source": [
    "<h2 style=\"text-align: center; color: red; font-size: 34px; margin-bottom: 20px;\">Notebook Index</h2>\r\n",
    "<table style=\"width: 100%; border-collapse: collapse; font-size: 1.2em; border: 2px solid red; border-bottom: 5px solid red; margin: 0px;\">\r\n",
    "  <thead>\r\n",
    "    <tr style=\"background-color: red; color: white; line-height: 1.5;\">\r\n",
    "      <th style=\"padding: 10px 20px;\">Title</th>\r\n",
    "      <th style=\"padding: 10px 20px;\">Description</th>\r\n",
    "    </tr>\r\n",
    "  </thead>\r\n",
    "  <tbody>\r\n",
    "    <tr>\r\n",
    "      <td style=\"padding: 10px 20px;\"><a href=\"#setup\" style=\"text-decoration: none; color: red;\"><strong>SETUP</strong></a></td>\r\n",
    "      <td style=\"padding: 10px 20px;\">Loading required packages & local machine (GADI) setup.</td>\r\n",
    "    </tr>\r\n",
    "    <tr>\r\n",
    "      <td style=\"padding: 10px 20px;\"><a href=\"#initiating-image-loading\" style=\"text-decoration: none; color: red;\"><strong>INITIATING IMAGE LOADING</strong></a></td>\r\n",
    "      <td style=\"padding: 10px 20px;\">Loading images & conducting required pre-processing.</td>\r\n",
    "    </tr>\r\n",
    "    <tr>\r\n",
    "      <td style=\"padding: 10px 20px;\"><a href=\"#visualizing\" style=\"text-decoration: none; color: red;\"><strong>VISUALIZING</strong></a></td>\r\n",
    "      <td style=\"padding: 10px 20px;\">Ensuring proper image pre-processing.</td>\r\n",
    "    </tr>\r\n",
    "    <tr>\r\n",
    "      <td style=\"padding: 10px 20px;\"><a href=\"#model-selection-and-setup\" style=\"text-decoration: none; color: red;\"><strong>MODEL SELECTION AND SETUP</strong></a></td>\r\n",
    "      <td style=\"padding: 10px 20px;\">Selecting, Creating, Configuring, Executing (Training) & Explaining.</td>\r\n",
    "    </tr>\r\n",
    "    <tr>\r\n",
    "      <td style=\"padding: 10px 20px;\"><a href=\"#model-evaluation-and-performance-analysis\" style=\"text-decoration: none; color: red;\"><strong>MODEL EVALUATION AND PERFORMANCE ANALYSIS</strong></a></td>\r\n",
    "      <td style=\"padding: 10px 20px;\">Analyzing & interpreting model performance via performance metrics.</td>\r\n",
    "   </tr>\r\n",
    "  </tbody>\r\n",
    "</table>\r\n"
   ]
  },
  {
   "cell_type": "markdown",
   "id": "b5c74051-a424-4747-ac3a-756e108a34fe",
   "metadata": {},
   "source": [
    "<h1 id=\"setup\" align=\"center\" style=\"color:#FF0000; background-color:#333333; padding:10px; border-bottom: 3px solid #FF0000;\">SETUP</h1>\n"
   ]
  },
  {
   "cell_type": "code",
   "execution_count": 1,
   "id": "a6fa68b7-6d9c-4347-88a8-f27c1a75ce72",
   "metadata": {
    "tags": []
   },
   "outputs": [
    {
     "name": "stdout",
     "output_type": "stream",
     "text": [
      "Requirement already satisfied: opencv-python in /scratch/xw97/jj7317/miniconda3/envs/new-env-temp/lib/python3.10/site-packages (4.9.0.80)\n",
      "Requirement already satisfied: numpy>=1.21.2 in /scratch/xw97/jj7317/miniconda3/envs/new-env-temp/lib/python3.10/site-packages (from opencv-python) (1.26.4)\n",
      "\n",
      "\u001b[1m[\u001b[0m\u001b[34;49mnotice\u001b[0m\u001b[1;39;49m]\u001b[0m\u001b[39;49m A new release of pip is available: \u001b[0m\u001b[31;49m24.0\u001b[0m\u001b[39;49m -> \u001b[0m\u001b[32;49m24.1.1\u001b[0m\n",
      "\u001b[1m[\u001b[0m\u001b[34;49mnotice\u001b[0m\u001b[1;39;49m]\u001b[0m\u001b[39;49m To update, run: \u001b[0m\u001b[32;49mpip install --upgrade pip\u001b[0m\n",
      "Note: you may need to restart the kernel to use updated packages.\n"
     ]
    }
   ],
   "source": [
    "pip install opencv-python"
   ]
  },
  {
   "cell_type": "code",
   "execution_count": 21,
   "id": "3d4aa281-d47f-4478-96f5-16a7fc092205",
   "metadata": {
    "tags": []
   },
   "outputs": [
    {
     "name": "stdout",
     "output_type": "stream",
     "text": [
      "Using PyTorch version 2.3.0\n"
     ]
    },
    {
     "data": {
      "text/plain": [
       "device(type='cuda')"
      ]
     },
     "execution_count": 21,
     "metadata": {},
     "output_type": "execute_result"
    }
   ],
   "source": [
    "import os\n",
    "import shutil\n",
    "import itertools\n",
    "import pathlib\n",
    "from PIL import Image\n",
    "\n",
    "import cv2\n",
    "import matplotlib.pyplot as plt\n",
    "import numpy as np\n",
    "import pandas as pd \n",
    "import seaborn as sns\n",
    "sns.set_style('whitegrid')\n",
    "import plotly.express as px\n",
    "\n",
    "from sklearn.preprocessing import LabelEncoder \n",
    "from sklearn.model_selection import train_test_split\n",
    "from sklearn.metrics import confusion_matrix, classification_report\n",
    "from sklearn.preprocessing import MinMaxScaler\n",
    "\n",
    "import torch\n",
    "import torchvision\n",
    "import torch.nn as nn\n",
    "import torch.nn.functional as F\n",
    "from torch.utils.data import Dataset, DataLoader\n",
    "from torchvision import datasets, transforms\n",
    "from torchvision.datasets import ImageFolder\n",
    "from torchvision.utils import make_grid\n",
    "from torchvision.io import read_image\n",
    "import torch.optim as optim\n",
    "\n",
    "from tqdm import tqdm  # Import tqdm for progress bar\n",
    "\n",
    "import warnings\n",
    "warnings.filterwarnings('ignore')\n",
    "print('Using PyTorch version', torch.__version__)\n",
    "# Setup device-agnostic code\n",
    "\n",
    "device = torch.device(\"cuda\" if torch.cuda.is_available() else \"cpu\")\n",
    "device"
   ]
  },
  {
   "cell_type": "markdown",
   "id": "9f7ab59c-0324-4f8a-b6b4-86fbf0ab0ad7",
   "metadata": {},
   "source": [
    "<span style=\"color:#5C5B5B; font-size:1.17em; font-style:italic; border-top:1px solid #5C5B5B; display:block; padding: 0px 5px;\">Explanation:</span>"
   ]
  },
  {
   "cell_type": "markdown",
   "id": "5e63cabe-469c-4ab1-8d6d-af6a8e01bd2e",
   "metadata": {},
   "source": [
    "- **Importing Libraries:**\n",
    "  - `import os, shutil, pathlib`: Standard libraries for file and path operations.\n",
    "  - `from PIL import Image`: For image manipulation.\n",
    "  - `import cv2`: OpenCV for image processing.\n",
    "  - `import matplotlib.pyplot as plt, numpy as np, pandas as pd, seaborn as sns, plotly.express as px`: Visualization and data manipulation libraries.\n",
    "  - `from sklearn.preprocessing import LabelEncoder, MinMaxScaler`: Data preprocessing.\n",
    "  - `from sklearn.model_selection import train_test_split`: Splitting dataset.\n",
    "  - `from sklearn.metrics import confusion_matrix, classification_report`: Model evaluation metrics.\n",
    "  - `import torch, torchvision, torch.nn as nn, torch.nn.functional as F`: PyTorch libraries for deep learning.\n",
    "  - `from torch.utils.data import Dataset, DataLoader`: Data handling for PyTorch.\n",
    "  - `from torchvision import datasets, transforms, make_grid`: Data transformations and utilities for visualization.\n",
    "  - `from tqdm import tqdm`: For progress bars in loops.\n",
    "  - `import warnings`: To control warning messages.\n",
    "  - `warnings.filterwarnings('ignore')`: Ignore warnings.\n",
    "  - `print('Using PyTorch version', torch.__version__)`: Display the PyTorch version.\n",
    "- **Device Setup:**\n",
    "  - `device = torch.device(\"cuda\" if torch.cuda.is_available() else \"cpu\")`: Set device to GPU if available, otherwise CPU.\n",
    "  - `print(device)`: Display the device being used."
   ]
  },
  {
   "cell_type": "code",
   "execution_count": 3,
   "id": "c0ad0bbc-cfe2-4e4b-9925-69cf010f12ee",
   "metadata": {
    "tags": []
   },
   "outputs": [
    {
     "name": "stdout",
     "output_type": "stream",
     "text": [
      "True\n"
     ]
    }
   ],
   "source": [
    "import torch\n",
    "\n",
    "print(torch.cuda.is_available())"
   ]
  },
  {
   "cell_type": "markdown",
   "id": "92ae57d6-e4d4-4339-88a3-7563f16e72cd",
   "metadata": {},
   "source": [
    "<span style=\"color:#5C5B5B; font-size:1.17em; font-style:italic; border-top:1px solid #5C5B5B; display:block; padding: 0px 5px;\">Explanation:</span>\n",
    "\n",
    "\n"
   ]
  },
  {
   "cell_type": "markdown",
   "id": "026ff973-0075-4390-8f50-5e8becc30cd0",
   "metadata": {},
   "source": [
    "**Check GPU Availability:**\n",
    "  - `import torch`: Import PyTorch library.\n",
    "  - `print(torch.cuda.is_available())`: Print whether CUDA is available (GPU usage)."
   ]
  },
  {
   "cell_type": "code",
   "execution_count": 4,
   "id": "25dcbe93-63f2-4a43-b1b1-9e246a0ce837",
   "metadata": {
    "tags": []
   },
   "outputs": [
    {
     "name": "stdout",
     "output_type": "stream",
     "text": [
      "Using device: cuda\n"
     ]
    }
   ],
   "source": [
    "device = torch.device(\"cuda\" if torch.cuda.is_available() else \"cpu\")\n",
    "print(\"Using device:\", device)"
   ]
  },
  {
   "cell_type": "markdown",
   "id": "b41ba5eb-fe8f-4c83-b1a0-681ae85750d6",
   "metadata": {},
   "source": [
    "<span style=\"color:#5C5B5B; font-size:1.17em; font-style:italic; border-top:1px solid #5C5B5B; display:block; padding: 0px 5px;\">Explanation:</span>"
   ]
  },
  {
   "cell_type": "markdown",
   "id": "36703b06-84c6-4858-97dd-0dc26f82fbc8",
   "metadata": {},
   "source": [
    "**Device Configuration:**\n",
    "- `device = torch.device(\"cuda\" if torch.cuda.is_available() else \"cpu\")`: Configure PyTorch to use CUDA if available.\n",
    "- `print(\"Using device:\", device)`: Print the device configuration."
   ]
  },
  {
   "cell_type": "code",
   "execution_count": 5,
   "id": "e6800788-a7d3-4405-86f5-7591f04ac445",
   "metadata": {
    "tags": []
   },
   "outputs": [
    {
     "name": "stdout",
     "output_type": "stream",
     "text": [
      "Current Working Directory: /home/576/jj7317\n"
     ]
    }
   ],
   "source": [
    "import os\n",
    "print(\"Current Working Directory:\", os.getcwd())"
   ]
  },
  {
   "cell_type": "markdown",
   "id": "e5de2375-7e01-4a91-b82f-212e16862266",
   "metadata": {},
   "source": [
    "<span style=\"color:#5C5B5B; font-size:1.17em; font-style:italic; border-top:1px solid #5C5B5B; display:block; padding: 0px 5px;\">Explanation:</span>"
   ]
  },
  {
   "cell_type": "markdown",
   "id": "e0d9b2f2-1567-4d9c-9043-d0aa363939e7",
   "metadata": {},
   "source": [
    "**Working Directory Information:**\n",
    "  - `import os`: Import OS library for operating system operations.\n",
    "  - `print(\"Current Working Directory:\", os.getcwd())`: Print the current working directory."
   ]
  },
  {
   "cell_type": "markdown",
   "id": "de05164f-e92d-4309-94bb-bfd545cf47a1",
   "metadata": {},
   "source": [
    "<h1 id=\"initiating-image-loading\" align=\"center\" style=\"color:#FF0000; background-color:#333333; padding:10px; border-bottom: 3px solid #FF0000;\">INITIATING IMAGE LOADING</h1>"
   ]
  },
  {
   "cell_type": "markdown",
   "id": "c902f357-eab7-4063-a306-8f9c6c9fa55a",
   "metadata": {},
   "source": [
    "### **Step 1:** Define Image Transformations"
   ]
  },
  {
   "cell_type": "code",
   "execution_count": 20,
   "id": "1b3a4419-34c9-4ead-a3be-e9712247802a",
   "metadata": {
    "tags": []
   },
   "outputs": [],
   "source": [
    "from torchvision import transforms\n",
    "# Image transformations\n",
    "transformations = transforms.Compose([\n",
    "    transforms.Resize((256, 256)),\n",
    "    transforms.RandomHorizontalFlip(),\n",
    "    transforms.RandomRotation(10),\n",
    "    transforms.ToTensor(),\n",
    "    transforms.Normalize(mean=[0.485, 0.456, 0.406], std=[0.229, 0.224, 0.225])\n",
    "])"
   ]
  },
  {
   "cell_type": "markdown",
   "id": "9e1db4eb-1f9a-46e3-9082-6c7a47e8100d",
   "metadata": {},
   "source": [
    "<span style=\"color:#5C5B5B; font-size:1.17em; font-style:italic; border-top:1px solid #5C5B5B; display:block; padding: 0px 5px;\">Explanation:</span>"
   ]
  },
  {
   "cell_type": "markdown",
   "id": "7852bac0-7be6-4d67-a4d8-f72856e89b7d",
   "metadata": {},
   "source": [
    "**Image transformation pipeline:** 3 transformations applied:\n",
    "1. `Rezise`: From 512 x 512 to **256 x 256**. \n",
    "2. `ToTensor`: Conversion to **tensor format**. \n",
    "3. `Normalize`: To **reduce** the image **variance**.\n",
    "\n",
    "<div style=\"border:2px solid green; color:green; padding:10px;\">\r\n",
    "    4. <code>RandomHorizontalFlip</code>: A random <strong>horizontal rotation/flip</strong> to increase variability among the image, leading to further <strong>generalization</strong>.<br>\r\n",
    "    5. <code>RandomRotation</code>: A random <strong>vertical rotation/flip</strong> to increase variability among the image, leading to further <strong>generalization</strong>. \r\n",
    "</d\r\n",
    "v>*. "
   ]
  },
  {
   "cell_type": "markdown",
   "id": "6c9a0ac7-114c-4579-9d80-455f08dc1d81",
   "metadata": {},
   "source": [
    "### **Step 2:** DataLoader"
   ]
  },
  {
   "cell_type": "code",
   "execution_count": 8,
   "id": "507511b3-5b48-414f-b3b5-493408e9134f",
   "metadata": {
    "tags": []
   },
   "outputs": [],
   "source": [
    "from PIL import Image\n",
    "from torch.utils.data import random_split\n",
    "\n",
    "class CustomSkinDataset(Dataset):\n",
    "    def __init__(self, csv_file, img_dir, transform=None):\n",
    "        self.img_labels = pd.read_csv(csv_file)\n",
    "        self.img_dir = img_dir\n",
    "        self.transform = transform\n",
    "\n",
    "    def __len__(self):\n",
    "        return len(self.img_labels)\n",
    "\n",
    "    def __getitem__(self, idx):\n",
    "        img_filename = self.img_labels.iloc[idx, 0] + '.jpg'\n",
    "        #img_path = os.path.join(self.img_dir, img_filename)\n",
    "        img_path = self.img_dir + '/' + self.img_labels.iloc[idx, 0] + '.jpg'\n",
    "        image = Image.open(img_path).convert('RGB')\n",
    "\n",
    "        labels = self.img_labels.iloc[idx, 1:].values\n",
    "        # Convert to numeric and handle non-numeric data\n",
    "        labels = pd.to_numeric(labels, errors='coerce').astype(float)\n",
    "        label = torch.argmax(torch.tensor(labels, dtype=torch.float32))  # Convert labels to index\n",
    "\n",
    "        if self.transform:\n",
    "            image = self.transform(image)\n",
    "\n",
    "        return image, label"
   ]
  },
  {
   "cell_type": "markdown",
   "id": "246e986d-45e3-441c-a76a-e50a84e67e5d",
   "metadata": {},
   "source": [
    "<span style=\"color:#5C5B5B; font-size:1.17em; font-style:italic; border-top:1px solid #5C5B5B; display:block; padding: 0px 5px;\">Explanation:</span>"
   ]
  },
  {
   "cell_type": "markdown",
   "id": "8973c2de-e5b3-4903-b9d0-6ce05015a631",
   "metadata": {},
   "source": [
    "- **Importing Libraries:** Required libraries/packages like `Image` & `random_split`, for creating labelling class are imported & loaded. \n",
    "\n",
    "- **Creating image labelling class:** For `ISIC_2019_Training_GroundTruth.csv` file. \n",
    "1. The `__init__` function is a constructor function initializing the class attributes. \n",
    "2. The `__len__` function returns the length of the labeled images.\n",
    "3. The `__getitem__` function reads the labels, transforms it to tensor & maps it to the images label file (`ISIC_2019_Training_GroundTruth.csv`)."
   ]
  },
  {
   "cell_type": "code",
   "execution_count": 9,
   "id": "3c0eaaa2-33da-454a-b6f4-d93e6516e1e2",
   "metadata": {},
   "outputs": [],
   "source": [
    "# Load dataset\n",
    "img_dir = '/scratch/xw97/jj7317/1-Skin-L-cell-classification/ext-data/ISIC_2019_Training_Input/ISIC_2019_Training_Input'  \n",
    "csv_file = '/scratch/xw97/jj7317/1-Skin-L-cell-classification/ext-data/ISIC_2019_Training_GroundTruth.csv'\n",
    "dataset = CustomSkinDataset(csv_file=csv_file, img_dir=img_dir, transform=transformations)\n",
    "\n",
    "# Split dataset#\n",
    "train_size = int(0.8 * len(dataset))\n",
    "val_size = len(dataset) - train_size\n",
    "train_dataset, val_dataset = random_split(dataset, [train_size, val_size])"
   ]
  },
  {
   "cell_type": "markdown",
   "id": "9bed4d6e-0934-4fdc-b283-3b9ddde35b49",
   "metadata": {},
   "source": [
    "<span style=\"color:#5C5B5B; font-size:1.17em; font-style:italic; border-top:1px solid #5C5B5B; display:block; padding: 0px 5px;\">Explanation:</span>"
   ]
  },
  {
   "cell_type": "markdown",
   "id": "11f3e162-f5b5-449b-b052-cf4ebc6100cd",
   "metadata": {},
   "source": [
    "- **Loading the dataset:** Uploading the dataset & passing through the `CustomSkinDataset` class. \n",
    "- **Splitting the data:** With train size 80%."
   ]
  },
  {
   "cell_type": "code",
   "execution_count": 10,
   "id": "d6756857-5c81-49f5-bd55-539445835bd1",
   "metadata": {},
   "outputs": [
    {
     "name": "stdout",
     "output_type": "stream",
     "text": [
      "Dataset and DataLoaders are set up and ready!\n"
     ]
    }
   ],
   "source": [
    "# DataLoaders\n",
    "train_loader = DataLoader(train_dataset, batch_size=32, shuffle=True)\n",
    "val_loader = DataLoader(val_dataset, batch_size=32, shuffle=False)\n",
    "\n",
    "print(\"Dataset and DataLoaders are set up and ready!\")\n",
    "img = '/scratch/xw97/jj7317/1-Skin-L-cell-classification/ext-data/ISIC_2019_Training_Input/ISIC_2019_Training_Input/ISIC_0000000.jpg'"
   ]
  },
  {
   "cell_type": "markdown",
   "id": "e6a0ca14-6624-4b73-81ab-eb64b9d2d26f",
   "metadata": {},
   "source": [
    "<span style=\"color:#5C5B5B; font-size:1.17em; font-style:italic; border-top:1px solid #5C5B5B; display:block; padding: 0px 5px;\">Explanation:</span>"
   ]
  },
  {
   "cell_type": "markdown",
   "id": "b5933795-1006-4088-824c-a61d982961ae",
   "metadata": {},
   "source": [
    "**Data Loader:** Loading Training & Validation datasets (defined earlier) using `DataLoader` With:\n",
    "- `train_dataset` having batch size of `32`with `shuffle=True`, the image ordering does not affect training. \n",
    "- `val_dataset` having batch size of `32`. "
   ]
  },
  {
   "cell_type": "markdown",
   "id": "e46cc9c8-61c4-47a7-b852-ca5712783f3c",
   "metadata": {},
   "source": [
    "<h1 id=\"visualizing\" align=\"center\" style=\"color:#FF0000; background-color:#333333; padding:10px; border-bottom: 3px solid #FF0000;\">VISUALIZING</h1>"
   ]
  },
  {
   "cell_type": "code",
   "execution_count": 11,
   "id": "a46b87ea-5f46-493c-9a30-d53684b7d7a4",
   "metadata": {},
   "outputs": [],
   "source": [
    "def imshow(img):\n",
    "    img = img.numpy().transpose((1, 2, 0))  # convert from Tensor image\n",
    "    mean = np.array([0.485, 0.456, 0.406])\n",
    "    std = np.array([0.229, 0.224, 0.225])\n",
    "    img = std * img + mean  # unnormalize\n",
    "    img = np.clip(img, 0, 1)  # clip any values falling outside this range\n",
    "    plt.imshow(img)\n",
    "    plt.axis('off')  # hide the axes\n",
    "    plt.show()"
   ]
  },
  {
   "cell_type": "markdown",
   "id": "54d2e110-92d6-45ed-af0d-b0800b5ffd9e",
   "metadata": {},
   "source": [
    "**Converting Tensor** back to a normalized **NumPy array** to visualise. "
   ]
  },
  {
   "cell_type": "code",
   "execution_count": 12,
   "id": "72f2a401-c476-4dfb-83f9-9e87431c8038",
   "metadata": {},
   "outputs": [
    {
     "data": {
      "image/png": "[encoded data removed]",
      "text/plain": [
       "<Figure size 640x480 with 1 Axes>"
      ]
     },
     "metadata": {},
     "output_type": "display_data"
    }
   ],
   "source": [
    "dataiter = iter(train_loader)\n",
    "images, labels = next(dataiter)\n",
    "\n",
    "# Show images\n",
    "imshow(images[0])  # Display the first image from the batch"
   ]
  },
  {
   "cell_type": "markdown",
   "id": "b5af4e3c-33c3-43e0-97fa-8317130b3002",
   "metadata": {},
   "source": [
    "Using `dataiter` defined by `iter` to randomise image print (for `train_loader`) after every execution. "
   ]
  },
  {
   "cell_type": "markdown",
   "id": "53c3ca9c-e469-460a-a41d-880ca840536c",
   "metadata": {},
   "source": [
    "<h1 id=\"model-selection-and-setup\" align=\"center\" style=\"color:#FF0000; background-color:#333333; padding:10px; border-bottom: 3px solid #FF0000;\">MODEL SELECTION AND SETUP</h1>"
   ]
  },
  {
   "cell_type": "markdown",
   "id": "28db5eb9-3e84-4a5a-81e5-d6db8d9c55c3",
   "metadata": {},
   "source": [
    "### **Step 1:** Custom Model selection - RESNET50"
   ]
  },
  {
   "cell_type": "code",
   "execution_count": 13,
   "id": "ce0c10d0-aac9-4dfc-a8ab-11fd024a2a6b",
   "metadata": {},
   "outputs": [
    {
     "name": "stdout",
     "output_type": "stream",
     "text": [
      "Model has been customized and moved to the device: cuda\n"
     ]
    }
   ],
   "source": [
    "import torch.nn as nn\n",
    "import torchvision.models as models\n",
    "from torchvision.models import resnet50, ResNet50_Weights\n",
    "\n",
    "device = torch.device(\"cuda\" if torch.cuda.is_available() else \"cpu\")\n",
    "\n",
    "# Load a pretrained ResNet50 model with the updated method\n",
    "model = resnet50(weights=ResNet50_Weights.IMAGENET1K_V1)\n",
    "\n",
    "# Freeze all layers in the model\n",
    "for param in model.parameters():\n",
    "    param.requires_grad = False\n",
    "\n",
    "# Replace the final layer of the model to match the number of classes (9 in this case)\n",
    "num_features = model.fc.in_features\n",
    "model.fc = nn.Linear(num_features, 9)  # 9 classes for our classification\n",
    "\n",
    "# Move the model to the right device\n",
    "model = model.to(device)\n",
    "\n",
    "print(\"Model has been customized and moved to the device:\", device)"
   ]
  },
  {
   "cell_type": "markdown",
   "id": "c9005e39-7efa-423a-a067-1d98f9cfef42",
   "metadata": {},
   "source": [
    "<span style=\"color:#5C5B5B; font-size:1.17em; font-style:italic; border-top:1px solid #5C5B5B; display:block; padding: 0px 5px;\">Explanation:</span>"
   ]
  },
  {
   "cell_type": "markdown",
   "id": "f40bbd17-d6de-46bf-9cb4-e72b7b0e1d81",
   "metadata": {},
   "source": [
    "- **`resnet50`:** For being well known for image classification & image feature extraction, We are using a predefined `resnet50` model.\n",
    "- **`IMAGENET1K_V1`:** We use a specifc version of ImageNet - `IMAGENET1K_V1`.\n",
    "\n",
    "#### <u>*Why `resnet50`? Why pre-defined model?*</u>:\n",
    "1. With about **50 layers** (***convolutional layers***, ***activation functions***, & ***residual blocks***), starting with `resnet50` architecture, rather than a new & weak one, can be more optimising for overall classification problem.\n",
    "2. With `resnet50` being trained on `ImageNet-1K`, the step of **regularisation can be skipped** as it has been trained on approximately ***1.2m images*** (*1,000 classes*).\n",
    "3. With proven performance & better chances of better accuracy, using a `resnet50` could be significantly **cost effective** in terms of computing power in GADI, NCI.\n",
    "\n",
    "#### <u>*Why `IMAGENET1K_V1`*</u>:\n",
    "1. With very **generalised** & extensive training in images (covering **1,000** distinct), `IMAGENET1K_V1` easily shifts & focuses on dermoscopic images & its classification. \n",
    "2. Out 2 classic accuracy related problem in an ML case study, the problem of **underfitting is avoided** by starting with `IMAGENET1K_V1`. \n",
    "3. Furthermore, starting with `resnet50` architechture & `IMAGENET1K_V1`, we get more scope of tuning & adjusting final layer. "
   ]
  },
  {
   "cell_type": "markdown",
   "id": "da0a3041-7a33-4eeb-93ee-7319647edfd4",
   "metadata": {},
   "source": [
    "### **Step 2:** Configure Training Parameters"
   ]
  },
  {
   "cell_type": "code",
   "execution_count": 22,
   "id": "e64ac548-ec0f-475d-8a26-641af3ce8912",
   "metadata": {},
   "outputs": [
    {
     "name": "stdout",
     "output_type": "stream",
     "text": [
      "Config successfull\n"
     ]
    }
   ],
   "source": [
    "import torch.optim as optim \n",
    "\n",
    "criterion = nn.CrossEntropyLoss()\n",
    "optimizer = optim.Adam(model.fc.parameters(), lr = 0.001)\n",
    "\n",
    "scheduler = optim.lr_scheduler.StepLR(optimizer, step_size=7, gamma=0.1)\n",
    "\n",
    "print(\"Config successfull\")"
   ]
  },
  {
   "cell_type": "markdown",
   "id": "3f7318af-8102-414e-9e78-fa1a40130f00",
   "metadata": {},
   "source": [
    "<span style=\"color:#5C5B5B; font-size:1.17em; font-style:italic; border-top:1px solid #5C5B5B; display:block; padding: 0px 5px;\">Explanation:</span>"
   ]
  },
  {
   "cell_type": "markdown",
   "id": "edd165e2-f884-4fed-8d5c-13758f4f8fd0",
   "metadata": {},
   "source": [
    "1. **Loss Function Initialization:** We execute `nn.CrossEntropyLoss()` to initializes the **cross-entropy loss function**, typically used for classification tasks.\n",
    "This loss combines `nn.LogSoftmax()` and `nn.NLLLoss()` in one single class.\n",
    "2. **Optimizer Initialization:** The `optim.Adam` initializes the **Adam optimizer**, an adaptive learning rate optimization algorithm. Parameters specified:\n",
    "    - `model.fc.parameters()`: Specifies the parameters of the **fully connected layer** of the model **to be optimized**.\n",
    "    - `lr=0.001`: Sets the learning rate to **0.001**.\n",
    "3. **Learning Rate Scheduler Initialization:** We specify `optim.lr_scheduler.StepLR` that initializes a learning rate scheduler that decays the learning rate **by a factor of gamma** every `step_size` epochs. Parameters specified:\n",
    "    - `optimizer`: The **optimizer** whose learning rate will be scheduled.\n",
    "    - `step_size=7`: **7 epochs** between each learning rate decay.\n",
    "    - `gamma=0.1`: Multiplicative factor of **0.1** for learning rate decay."
   ]
  },
  {
   "cell_type": "markdown",
   "id": "da2551e6-673e-4c7b-99c5-0c45af1d59a5",
   "metadata": {},
   "source": [
    "#### <u>*Why `CrossEntropyLoss`?*</u>\r",
    "We use the `CrossEntropyLoss` as our loss function as it is known for **multi-class classification** as unlike other loss functions where misclassification is penalised equally, it penalises the misclassification propotionatly, based on error.\n",
    "\n",
    "*Gradient Optimization: It provides robust gradient signals. It avoids the vanishing gradient problem typically seen with sigmoid in the case of binary classifications extended to multi-class tasks, making the learning process faster and more reliable.*`."
   ]
  },
  {
   "cell_type": "markdown",
   "id": "5bceb2db-03f0-46bb-acd1-73901621e7ec",
   "metadata": {},
   "source": [
    "### **Step 3:** Creating training Loop"
   ]
  },
  {
   "cell_type": "code",
   "execution_count": 15,
   "id": "0229eb62-c5a0-422b-b135-75a1f7da7f71",
   "metadata": {},
   "outputs": [],
   "source": [
    "dataset = CustomSkinDataset(csv_file=csv_file, img_dir=img_dir, transform=transforms.Compose([\n",
    "    transforms.Resize((224, 224)),\n",
    "    transforms.ToTensor()\n",
    "]))\n",
    "\n",
    "# Define your train, validation, and test split ratios\n",
    "train_ratio = 0.7\n",
    "val_ratio = 0.15\n",
    "test_ratio = 0.15\n",
    "\n",
    "# Compute lengths for each subset\n",
    "train_len = int(len(dataset) * train_ratio)\n",
    "val_len = int(len(dataset) * val_ratio)\n",
    "test_len = len(dataset) - train_len - val_len\n",
    "\n",
    "# Split the dataset\n",
    "train_dataset, val_dataset, test_dataset = random_split(dataset, [train_len, val_len, test_len])\n",
    "\n",
    "# Create data loaders\n",
    "train_loader = DataLoader(train_dataset, batch_size=32, shuffle=True, num_workers=4)\n",
    "val_loader = DataLoader(val_dataset, batch_size=32, shuffle=False, num_workers=4)\n",
    "test_loader = DataLoader(test_dataset, batch_size=32, shuffle=False, num_workers=4)"
   ]
  },
  {
   "cell_type": "markdown",
   "id": "366fcf27-1735-4cc0-9901-b3fdc44f4f50",
   "metadata": {},
   "source": [
    "<span style=\"color:#5C5B5B; font-size:1.17em; font-style:italic; border-top:1px solid #5C5B5B; display:block; padding: 0px 5px;\">Explanation:</span>"
   ]
  },
  {
   "cell_type": "markdown",
   "id": "17ae5fc5-1bcd-4408-925f-28a8a03b5918",
   "metadata": {},
   "source": [
    "1. **Initializing custom dataset:**\n",
    "    - `CustomSkinDataset`: Custom dataset class for skin images, initialized with a CSV file and image directory.\n",
    "    - transform: Data transformation pipeline applied to each image.\n",
    "        - transforms.Resize((224, 224)): Resizes images to 224x224 pixels.\n",
    "        - transforms.ToTensor(): Converts images to PyTorch tensors.\n",
    "\n",
    "2. **Define Split Ratios:**\n",
    "    - `train_ratio = 0.7`: **70%** of the dataset will be used for **training**.\n",
    "    - `val_ratio = 0.15`: **15%** of the dataset will be used for **validation**.\n",
    "    - `test_ratio = 0.15`: **15%** of the dataset will be used for **testing**.\n",
    "  \n",
    "3. Calculate **Subset Lengths:**\n",
    "- `train_len = int(len(dataset) * train_ratio)`: **Number of samples** for the **training set**. Multiplies the dataset length by the training ratio and converts to an integer.\n",
    "- `val_len = int(len(dataset) * val_ratio)`: **Number of samples** for the **validation set**. Multiplies the dataset length by the validation ratio and converts to an integer.\n",
    "- `test_len = len(dataset) - train_len - val_len`: **Number of samples** for the **test set**. Ensures the remaining samples are allocated to the test set to avoid rounding issues.\n",
    "\n",
    "4. **Split the Dataset:** Using `random_split(dataset, [train_len, val_len, test_len])`, we randomly splits the dataset into training, validation, and test subsets with specified lengths.\n",
    "5. **Creating Data Loaders:** We use the utility `DataLoader` to load data in batches for training and evaluation. Parameters specified:\n",
    "    - `train_loader`:\n",
    "        - `train_dataset`: **Dataset** for training.\n",
    "        - `batch_size=32`: **32 samples** per batch.\n",
    "        - `shuffle=True`: **Shuffles** the data at every epoch.\n",
    "        - `num_workers=4`: **4 subprocesses** to use for data loading.\n",
    "    - `val_loader` and `test_loader`: Similar to `train_loader`, but with `shuffle=False` to **maintain order** during evaluation."
   ]
  },
  {
   "cell_type": "markdown",
   "id": "fa1c0a78-f325-49a9-b5a0-4bb4e611d755",
   "metadata": {},
   "source": [
    "### **Step 4:** Training model"
   ]
  },
  {
   "cell_type": "code",
   "execution_count": 25,
   "id": "393d5108-e7d7-49a8-9a17-acc1fca6bfd5",
   "metadata": {},
   "outputs": [
    {
     "name": "stdout",
     "output_type": "stream",
     "text": [
      "Epoch number: 1/20 - Loss: 0.7581 - Accuracy: 71.98%\n",
      "Validation loss: 0.8985 - Validation accuracy: 68.36%\n",
      "Epoch number: 2/20 - Loss: 0.7410 - Accuracy: 72.31%\n",
      "Validation loss: 0.8607 - Validation accuracy: 70.36%\n",
      "Epoch number: 3/20 - Loss: 0.7496 - Accuracy: 72.22%\n",
      "Validation loss: 0.8510 - Validation accuracy: 69.89%\n",
      "Epoch number: 4/20 - Loss: 0.7441 - Accuracy: 72.44%\n",
      "Validation loss: 0.8688 - Validation accuracy: 69.62%\n",
      "Epoch number: 5/20 - Loss: 0.7512 - Accuracy: 71.90%\n",
      "Validation loss: 0.9348 - Validation accuracy: 67.47%\n",
      "Epoch number: 6/20 - Loss: 0.7362 - Accuracy: 72.74%\n",
      "Validation loss: 0.8555 - Validation accuracy: 69.97%\n",
      "Epoch number: 7/20 - Loss: 0.7297 - Accuracy: 72.79%\n",
      "Validation loss: 0.8604 - Validation accuracy: 68.73%\n",
      "Early stopping triggered\n",
      "Test loss: 0.8805 - Test accuracy: 69.51%\n"
     ]
    }
   ],
   "source": [
    "def train_mod(model, train_loader, val_loader, test_loader, criterion, optimizer, scheduler, num_epochs=20, patience=5):\n",
    "    best_val_accuracy = 0.0\n",
    "    epochs_no_improve = 0\n",
    "\n",
    "    for epoch in range(num_epochs):\n",
    "        model.train()\n",
    "        running_loss = 0.0\n",
    "        correct = 0\n",
    "        total = 0\n",
    "\n",
    "        for inputs, labels in train_loader:\n",
    "            inputs, labels = inputs.to(device), labels.to(device)\n",
    "\n",
    "            optimizer.zero_grad()\n",
    "            outputs = model(inputs)\n",
    "            loss = criterion(outputs, labels)\n",
    "            loss.backward()\n",
    "            optimizer.step()\n",
    "\n",
    "            running_loss += loss.item() * inputs.size(0)\n",
    "            _, predicted = torch.max(outputs.data, 1)\n",
    "            total += labels.size(0)\n",
    "            correct += (predicted == labels).sum().item()\n",
    "\n",
    "        epoch_loss = running_loss / len(train_loader.dataset)\n",
    "        epoch_accuracy = 100 * correct / total\n",
    "        print(f'Epoch number: {epoch+1}/{num_epochs} - Loss: {epoch_loss:.4f} - Accuracy: {epoch_accuracy:.2f}%')\n",
    "\n",
    "        ## VALIDATION ##\n",
    "        model.eval()\n",
    "        val_running_loss = 0.0\n",
    "        val_correct = 0\n",
    "        val_total = 0\n",
    "        with torch.no_grad():\n",
    "            for inputs, labels in val_loader:\n",
    "                inputs, labels = inputs.to(device), labels.to(device)\n",
    "                outputs = model(inputs)\n",
    "                loss = criterion(outputs, labels)\n",
    "                val_running_loss += loss.item() * inputs.size(0)\n",
    "                _, predicted = torch.max(outputs.data, 1)\n",
    "                val_total += labels.size(0)\n",
    "                val_correct += (predicted == labels).sum().item()\n",
    "\n",
    "            val_epoch_loss = val_running_loss / len(val_loader.dataset)\n",
    "            val_epoch_accuracy = 100 * val_correct / val_total\n",
    "            print(f'Validation loss: {val_epoch_loss:.4f} - Validation accuracy: {val_epoch_accuracy:.2f}%')\n",
    "\n",
    "        if val_epoch_accuracy > best_val_accuracy:\n",
    "            best_val_accuracy = val_epoch_accuracy\n",
    "            epochs_no_improve = 0\n",
    "            torch.save(model.state_dict(), 'best_model.pth')\n",
    "        else:\n",
    "            epochs_no_improve += 1\n",
    "\n",
    "        # Early stopping\n",
    "        if epochs_no_improve >= patience:\n",
    "            print('Early stopping triggered')\n",
    "            break\n",
    "\n",
    "        # Step the scheduler\n",
    "        scheduler.step()\n",
    "\n",
    "    ## TEST ##\n",
    "    model.load_state_dict(torch.load('best_model.pth'))\n",
    "    model.eval()\n",
    "    test_running_loss = 0.0\n",
    "    test_correct = 0\n",
    "    test_total = 0\n",
    "    with torch.no_grad():\n",
    "        for inputs, labels in test_loader:\n",
    "            inputs, labels = inputs.to(device), labels.to(device)\n",
    "            outputs = model(inputs)\n",
    "            loss = criterion(outputs, labels)\n",
    "            test_running_loss += loss.item() * inputs.size(0)\n",
    "            _, predicted = torch.max(outputs.data, 1)\n",
    "            test_total += labels.size(0)\n",
    "            test_correct += (predicted == labels).sum().item()\n",
    "\n",
    "        test_loss = test_running_loss / len(test_loader.dataset)\n",
    "        test_accuracy = 100 * test_correct / test_total\n",
    "        print(f'Test loss: {test_loss:.4f} - Test accuracy: {test_accuracy:.2f}%')\n",
    "\n",
    "    return model\n",
    "\n",
    "trained_model = train_mod(model, train_loader, val_loader, test_loader, criterion, optimizer, scheduler, num_epochs=20)"
   ]
  },
  {
   "cell_type": "markdown",
   "id": "f9a64529-cb03-4c36-892f-8051302feae8",
   "metadata": {},
   "source": [
    "<span style=\"color:#5C5B5B; font-size:1.17em; font-style:italic; border-top:1px solid #5C5B5B; display:block; padding: 0px 5px;\">Explanation:</span>"
   ]
  },
  {
   "cell_type": "markdown",
   "id": "039c5845-4872-44e6-b578-ece505115220",
   "metadata": {},
   "source": [
    "<div style=\"color:##5C5B5B; border-right: 3px solid #5C5B5B; text-align: right; padding: 0px 7px;\">Overall model architect</div>\n"
   ]
  },
  {
   "cell_type": "markdown",
   "id": "eddffcad-64c3-4e89-9a9e-0e76e3fe7f5d",
   "metadata": {},
   "source": [
    "1. We define a function **`train_mod`** with parameters:\n",
    "    - `model`: The NN model to be trained.\n",
    "    - `train_loader`, `val_loader`, `test_loader`: Data loaders for training, validation and testing datasets, respectively.\n",
    "    - `criterion`: Loss function *(earlier specfied as `nn.CrossEntropyLoss()`)*.\n",
    "    - `optimizer`: Optimization algorithm *(earlier specfied as `nn.CrossEntropyLoss()`)*.\n",
    "    - `num_epochs`: Number of training epochs (default is 20).>\r\n",
    ".\n",
    "\n"
   ]
  },
  {
   "cell_type": "markdown",
   "id": "a7ad37eb-d65f-45df-8575-a07ab45f2248",
   "metadata": {},
   "source": [
    "<div style=\"border:2px solid green; color:green; padding:10px;\">\n",
    "    <ul style=\"list-style-type: disc; margin: 0; padding-left: 20px;\">\n",
    "        <li><code>scheduler</code>: Learning rate scheduler <em>(earlier specified as <code>StepLR</code>)</em>.</li>\n",
    "        <li><code>patience</code>: Number of epochs to wait for improvement before stopping (default is 5).</li>\n",
    "    </ul>\n",
    "<div>"
   ]
  },
  {
   "cell_type": "markdown",
   "id": "72775052-85e8-475c-a328-50c9fec9b863",
   "metadata": {},
   "source": [
    "2. We store the **highest validation accuracy** by defining an object **`best_val_accuracy`** & using `epochs_no_improve` later on."
   ]
  },
  {
   "cell_type": "markdown",
   "id": "88b9bdec-63d0-4a8b-9708-3e8d269506fa",
   "metadata": {},
   "source": [
    "3. Creating **Epoch loop**:\n",
    "    - Loops through each epoch from 0 to `num_epochs - 1`.\n",
    "    - Sets the model to training mode with `model.train()`.\n",
    "    - Initializes `running_loss`, `correct`, and `total` to track metrics within the epoch."
   ]
  },
  {
   "cell_type": "markdown",
   "id": "69f58600-0493-4e30-b3d9-9f7bf2ecdb1b",
   "metadata": {},
   "source": [
    "4. Creating **Batch processing loop**:\n",
    "    - **Iterates** through batches of data in `train_loader`.\n",
    "    - **Transfers** `inputs` and `labels` to the *GADI* directory.\n",
    "    - **Resets** the gradients using `optimizer.zero_grad()`.\n",
    "    - **Computes** `model` outputs.\n",
    "    - **Calculates loss** using the `criterion`.\n",
    "    - Performs **backpropagation** with `loss.backward()`.\n",
    "    - **Updates model parameters** with `optimizer.step()`.\n",
    "    - **Accumulates `running_loss`** for the epoch by multiplying the batch loss by the number of samples in the batch `(loss.item() * inputs.size(0))`.\n",
    "    - Determines the **predicted class for each sample** in the batch using `torch.max(outputs.data, 1)`.\n",
    "    - **Increases the total number of samples** processed in the epoch with `total += labels.size(0)`.\n",
    "    - **Counts the number of correct predictions** in the batch and adds to the correct count for the epoch with `(predicted == labels).sum().item()`.\n",
    "    - **Calculates the average loss per sample** for the epoch with `epoch_loss = running_loss / len(train_loader.dataset)`.\n",
    "    - **Calculates the accuracy percentage** for the epoch with `epoch_accuracy = 100 * correct / total`.\n",
    "    - **Prints** the **current epoch's number**, **loss** and **accuracy** to the console."
   ]
  },
  {
   "cell_type": "markdown",
   "id": "447bae9b-5d1b-43f0-826b-ceee8a002158",
   "metadata": {},
   "source": [
    "<div style=\"color:##5C5B5B; border-right: 3px solid #5C5B5B; text-align: right; padding: 0px 7px;\">Model validation</div>"
   ]
  },
  {
   "cell_type": "markdown",
   "id": "b536c039-abda-4ea7-a6a4-b2472d2e77cf",
   "metadata": {},
   "source": [
    "5. Model **validation**: We set the model in validation mode using `eval()`. \n",
    "6. Initializing **validation metrics**:\n",
    "    - `val_running_loss`: Accumulates the **total validation loss**.\n",
    "    - `val_correct`: Counts the **number of correct predictions** in the validation set.\n",
    "    - `val_total`: Counts the **total number of samples** in the validation set.\n",
    "7. Validation **Batch processing loop**:\n",
    "    - **with `torch.no_grad()`:** Disables gradient calculation for memory efficiency and speed during validation.\n",
    "    - **Transfers** `inputs` and `labels` to the *GADI* directory.\n",
    "    - **Model Inference:** Generates predictions with `outputs = model(inputs)`.\n",
    "    - **Calculate Loss:** Computes the loss for the batch with `loss = criterion(outputs, labels)`.\n",
    "    - **Accumulate Validation Loss:** Adds the batch loss to the running total, scaled by batch size.\n",
    "    - **Predict Classes:** Determines the predicted classes for the batch.\n",
    "    - **Update Totals:** Increments `val_total` by the number of samples in the batch and `val_correct` by the number of correct predictions.\n",
    "8. Validation **metric calculation**:\n",
    "    - **Calculate Average Loss:** `val_epoch_loss = val_running_loss / len(val_loader.dataset)` Computes the average loss per sample for the validation set.\n",
    "    - **Calculate Accuracy:** val_epoch_accuracy = `100 * val_correct / val_total` Computes the accuracy percentage for the validation set."
   ]
  },
  {
   "cell_type": "markdown",
   "id": "3cfad2b8-6848-4923-9ac8-4f0ff4957198",
   "metadata": {},
   "source": [
    "<div style=\"border:2px solid green; color:green; padding:10px;\">\n",
    "    <strong>9. Saving best Model:</strong>\n",
    "    <ul style=\"list-style-type: disc; margin: 0; padding-left: 40px;\"> <!-- Increased padding for all sub points -->\n",
    "        <li>If the current validation accuracy is greater than <code>best_val_accuracy</code>:\n",
    "            <ul style=\"list-style-type: circle; margin: 0; padding-left: 40px;\"> <!-- Further indent sub-sub points -->\n",
    "                <li>update <code>best_val_accuracy</code></li>\n",
    "                <li>reset <code>epochs_no_improve</code></li>\n",
    "                <li>save the model state.</li>\n",
    "            </ul>\n",
    "        </li>\n",
    "        <li>If not, increment <code>epochs_no_improve</code>.</li>\n",
    "    </ul>\n",
    "    <strong>10. Early Stopping and Scheduler Step:</strong>\n",
    "    <ul style=\"list-style-type: disc; margin: 0; padding-left: 40px;\"> <!-- Consistent padding for these sub points too -->\n",
    "        <li>If <code>epochs_no_improve</code> reaches the <code>patience</code> threshold:\n",
    "            <ul style=\"list-style-type: circle; margin: 0; padding-left: 40px;\"> <!-- Maintain indent for clarity -->\n",
    "                <li>print a message and break the training loop, stopping training early.</li>\n",
    "            </ul>\n",
    "        </li>\n",
    "        <li>We call the <code>scheduler.step()</code> to update the learning rate based on <code>val_epoch_accuracy</code>.</li>\n",
    "    </ul>\n",
    "</div>"
   ]
  },
  {
   "cell_type": "markdown",
   "id": "38542fa8-533c-4e8a-b2d8-89cc44ffd975",
   "metadata": {},
   "source": [
    "<div style=\"color:##5C5B5B; border-right: 3px solid #5C5B5B; text-align: right; padding: 0px 7px;\">Model Testing</div>"
   ]
  },
  {
   "cell_type": "markdown",
   "id": "11fc7730-246f-4792-a225-3d975f34c4e9",
   "metadata": {},
   "source": [
    "11. **Initiating Testing phase**:\n",
    "    - **Loads the best model's state** saved during validation with `model.load_state_dict(torch.load('best_model.pth'))`.\n",
    "    - Sets the model to **evaluation mode** with `model.eval()`.\n",
    "    - `test_running_loss`: Accumulates the **total test loss**\n",
    "    - `test_correc`t: Counts the **number of correct predictions** in the test set.\n",
    "    - `test_total`: Counts the **total number of samples** in the test set.\n",
    "   \n",
    "12. Test **Batch processing loop**: We start our testing loop **`with torch.no_grad()`** that disables gradient calculation for memory efficiency and speed during testing.\n",
    "    - **Transfer to Device:** Moves `inputs` and `labels` to the specified device.\n",
    "    - **Model Inference:** Generates predictions with `outputs = model(inputs)`.\n",
    "    - **Calculate Loss:** Computes the loss for the batch with `loss = criterion(outputs, labels)`.\n",
    "    - **Accumulate Test Loss:** Adds the batch loss to the `test_running_loss`, scaled by batch size.\n",
    "    - **Predict Classes:** Determines the predicted classes for the batch.\n",
    "    - **Update Totals:** Increments `test_total` by the number of samples in the batch and `test_correct` by the number of correct predictions.\n",
    "   \n",
    "13. Test **metric calculation**:\n",
    "    - `test_loss = test_running_loss / len(test_loader.dataset)`: Computes the **average loss** per sample for the **test set**.\n",
    "    - `test_accuracy = 100 * test_correct / test_total`: Computes the **accuracy percentage** for the **test set**.\n",
    "    - Prints the test loss and accuracy *(```print(f'Test loss: {test_loss:.4f} - Test accuracy: {test_accuracy:.2f}%')```)*."
   ]
  },
  {
   "cell_type": "markdown",
   "id": "7818541f-7df4-4121-8107-5d68ddd0a3d4",
   "metadata": {},
   "source": [
    "<div style=\"color:##5C5B5B; border-right: 3px solid #5C5B5B; text-align: right; padding: 0px 7px;\">Calling</div>"
   ]
  },
  {
   "cell_type": "markdown",
   "id": "2650d3b3-4cce-4252-b248-bb7bdd4449da",
   "metadata": {},
   "source": [
    "14. We now calls the **`train_mod`** function with the specified parameters to **train** the model and **stores** the trained model in **`trained_model`**."
   ]
  },
  {
   "cell_type": "markdown",
   "id": "34a8c65a-bf36-430b-a91f-7e3076a46482",
   "metadata": {},
   "source": [
    "<h1 id=\"model-evaluation-and-performance-analysis\" align=\"center\" style=\"color:#FF0000; background-color:#333333; padding:10px; border-bottom: 3px solid #FF0000;\">MODEL EVALUATION AND PERFORMANCE ANALYSIS</h1>"
   ]
  },
  {
   "cell_type": "markdown",
   "id": "9f7929bf-9067-449a-a499-b4afdf42247a",
   "metadata": {},
   "source": [
    "The training process ran for **7 epochs** out of the planned 20, with early stopping triggered due to a lack of improvement in validation accuracy. The final test performance was evaluated after stopping the training. Below is a detailed interpretation of the training, validation, and test metrics.stopping mechanism worked effectively."
   ]
  },
  {
   "cell_type": "markdown",
   "id": "0a734638-b7f5-4ac9-a986-c726b274e125",
   "metadata": {},
   "source": [
    "<table>\n",
    "  <thead>\n",
    "    <tr style=\"background-color: green; color: white;\">\n",
    "      <th><strong>Training Loss</strong></th>\n",
    "      <th><strong>Training Accuracy</strong></th>\n",
    "      <th><strong>Validation Loss</strong></th>\n",
    "      <th><strong>Validation Accuracy</strong></th>\n",
    "    </tr>\n",
    "  </thead>\n",
    "  <tbody>\n",
    "    <tr style=\"background-color: white; color: black;\">\n",
    "      <td><strong>0.7297</strong></td>\n",
    "      <td><strong>72.79%</strong></td>\n",
    "      <td><strong>0.8604</strong></td>\n",
    "      <td><strong>68.73%</strong></td>\n",
    "    </tr>\n",
    "  </tbody>\n",
    "</table>"
   ]
  },
  {
   "cell_type": "markdown",
   "id": "de1a07ad-7a1f-4ce9-840c-91ccda3d54c8",
   "metadata": {},
   "source": [
    "<u>Early Stopping</u>\n",
    "- **Trigger:** Early stopping was triggered after the 7th epoch because there was no significant improvement in validation accuracy over the previous epochs.\n",
    "- **Effect:** This prevents overfitting, ensuring the model doesn't continue to train on patterns specific to the training data that don’t generalize well to new data.\n",
    "\n",
    "<u>Test Performance</u>\n",
    "- **Test Loss:** 0.8805\n",
    "- **Test Accuracy:** 69.51%\n",
    "- **Interpretation:** The test accuracy is close to the validation accuracy, indicating that the model generalizes reasonably well to unseen data. This is a positive outcome, suggesting that the early stopping mechanism worked effectively."
   ]
  },
  {
   "cell_type": "markdown",
   "id": "0fbdbecd-7373-4a4a-b4e0-8db273f8699c",
   "metadata": {},
   "source": [
    "<div style=\"color:#5C5B5B; border-right: 3px solid #5C5B5B; text-align: right; padding: 0px 7px; font-size: 1.17em; font-weight: bold;\">Comprehensive Interpretation</div>\n"
   ]
  },
  {
   "cell_type": "markdown",
   "id": "fd0bc5ce-fa44-46bc-921b-177dad5ec389",
   "metadata": {},
   "source": [
    "<table>\n",
    "  <thead>\n",
    "    <tr style=\"background-color: green; color: white;\">\n",
    "      <th><strong>Epoch</strong></th>\n",
    "      <th><strong>Training Loss</strong></th>\n",
    "      <th><strong>Training Accuracy</strong></th>\n",
    "      <th><strong>Validation Loss</strong></th>\n",
    "      <th><strong>Validation Accuracy</strong></th>\n",
    "    </tr>\n",
    "  </thead>\n",
    "  <tbody>\n",
    "    <tr style=\"background-color: white; color: black;\">\n",
    "      <td><strong>1</strong></td>\n",
    "      <td><strong>0.7581</strong></td>\n",
    "      <td><strong>71.98%</strong></td>\n",
    "      <td><strong>0.8985</strong></td>\n",
    "      <td><strong>68.36%</strong></td>\n",
    "    </tr>\n",
    "    <tr style=\"background-color: white; color: black;\">\n",
    "      <td><strong>2</strong></td>\n",
    "      <td><strong>0.7410</strong></td>\n",
    "      <td><strong>72.31%</strong></td>\n",
    "      <td><strong>0.8607</strong></td>\n",
    "      <td><strong>70.36%</strong></td>\n",
    "    </tr>\n",
    "    <tr style=\"background-color: white; color: black;\">\n",
    "      <td><strong>3</strong></td>\n",
    "      <td><strong>0.7496</strong></td>\n",
    "      <td><strong>72.22%</strong></td>\n",
    "      <td><strong>0.8510</strong></td>\n",
    "      <td><strong>69.89%</strong></td>\n",
    "    </tr>\n",
    "    <tr style=\"background-color: white; color: black;\">\n",
    "      <td><strong>4</strong></td>\n",
    "      <td><strong>0.7441</strong></td>\n",
    "      <td><strong>72.44%</strong></td>\n",
    "      <td><strong>0.8688</strong></td>\n",
    "      <td><strong>69.62%</strong></td>\n",
    "    </tr>\n",
    "    <tr style=\"background-color: white; color: black;\">\n",
    "      <td><strong>5</strong></td>\n",
    "      <td><strong>0.7512</strong></td>\n",
    "      <td><strong>71.90%</strong></td>\n",
    "      <td><strong>0.9348</strong></td>\n",
    "      <td><strong>67.47%</strong></td>\n",
    "    </tr>\n",
    "    <tr style=\"background-color: white; color: black;\">\n",
    "      <td><strong>6</strong></td>\n",
    "      <td><strong>0.7362</strong></td>\n",
    "      <td><strong>72.74%</strong></td>\n",
    "      <td><strong>0.8555</strong></td>\n",
    "      <td><strong>69.97%</strong></td>\n",
    "    </tr>\n",
    "    <tr style=\"background-color: white; color: black;\">\n",
    "      <td><strong>7</strong></td>\n",
    "      <td><strong>0.7297</strong></td>\n",
    "      <td><strong>72.79%</strong></td>\n",
    "      <td><strong>0.8604</strong></td>\n",
    "      <td><strong>68.73%</strong></td>\n",
    "    </tr>\n",
    "    <tr style=\"background-color: white; color: black;\">\n",
    "      <td><strong>Test</strong></td>\n",
    "      <td><strong>0.8805</strong></td>\n",
    "      <td><strong>69.51%</strong></td>\n",
    "      <td></td>\n",
    "      <td></td>\n",
    "    </tr>\n",
    "  </tbody>\n",
    "</table>"
   ]
  },
  {
   "cell_type": "markdown",
   "id": "60eb2b78-8586-4d45-8adc-5306eb11b965",
   "metadata": {},
   "source": [
    "**Model Learning Dynamics:**\n",
    "- The model **<strong style=\"color:darkgreen;\">starts strong with good initial accuracy of 71.98%</strong>** and gradually improves its understanding of the training data.\n",
    "- The fluctuations in validation accuracy and loss indicate a balance between learning and overfitting, which is **<strong style=\"color:darkgreen;\">well-managed by the learning rate scheduler</strong>** and **<strong style=\"color:darkgreen;\">early stopping</strong>**.\n",
    "\n",
    "**Early Stopping Effectiveness:**\n",
    "- **<strong style=\"color:darkgreen;\">Ensures that the model does not overfit</strong>** at the **7th epoch**, saving computational resources and avoiding unnecessary training.\n",
    "- The patience parameter effectively **<strong style=\"color:darkgreen;\">monitored the model’s performance</strong>** and **<strong style=\"color:darkgreen;\">decided on the optimal point to halt training</strong>**.\n",
    "\n",
    "**Learning Rate Scheduler Impact:**\n",
    "- The learning rate scheduler helped **<strong style=\"color:darkgreen;\">adjust the learning pace</strong>**, preventing the model from making large updates that could lead to instability."
   ]
  },
  {
   "cell_type": "markdown",
   "id": "6a03aadf-af1d-4b9a-93c0-3041448a1fc4",
   "metadata": {},
   "source": [
    "<div style=\"color:#5C5B5B; border-right: 3px solid #5C5B5B; text-align: right; padding: 0px 7px; font-size: 1.17em; font-weight: bold;\">Validation vs Tesing</div>"
   ]
  },
  {
   "cell_type": "markdown",
   "id": "8964d29c-dd10-4f84-b0d8-13febd42f9cb",
   "metadata": {},
   "source": [
    "<table>\r\n",
    "  <thead>\r\n",
    "    <tr style=\"background-color: green; color: white;\">\r\n",
    "      <th><strong>Metric</strong></th>\r\n",
    "      <th><strong>Best Validation</strong></th>\r\n",
    "      <th><strong>Final Test</strong></th>\r\n",
    "    </tr>\r\n",
    "  </thead>\r\n",
    "  <tbody>\r\n",
    "    <tr style=\"background-color: white; color: black;\">\r\n",
    "      <td><strong>Loss</strong></td>\r\n",
    "      <td><strong>0.8510 (Epoch 3)</strong></td>\r\n",
    "      <td><strong>0.8805</strong></td>\r\n",
    "    </tr>\r\n",
    "    <tr style=\"background-color: white; color: black;\">\r\n",
    "      <td><strong>Accuracy</strong></td>\r\n",
    "      <td><strong>70.36% (Epoch 2)</strong></td>\r\n",
    "      <td><strong>69.51%</strong></td>\r\n",
    "    </tr>\r\n",
    " </tbody>\r\n",
    "</table>\r\n"
   ]
  },
  {
   "cell_type": "markdown",
   "id": "ae2e225f-b786-43e0-a9dc-69d5cac24012",
   "metadata": {},
   "source": [
    "- **Consistency in Accuracy:** The validation accuracy (**<strong style=\"color:darkgreen;\">best: 70.36%</strong>**, **<strong style=\"color:darkgreen;\">final: 68.73%</strong>**) is consistent with the test accuracy (**<strong style=\"color:darkgreen;\">69.51%</strong>**), suggesting that the model **<strong style=\"color:darkgreen;\">generalizes well to unseen data</strong>**.\r\n",
    "- **Loss Comparison:** Validation loss (**<strong style=\"color:darkgreen;\">best: 0.8510</strong>**) is close to the test loss (**<strong style=\"color:darkgreen;\">0.8805</strong>**), indicating that the **<strong style=\"color:darkgreen;\">validation metrics were reliable indicators of the model’s final performance</strong>**.\r\n",
    "- **Early Stopping Effectiveness:** Early stopping based on **<strong style=\"color:darkgreen;\">validation performance prevented overfitting</strong>**, as evidenced by the close match between validation and test accuracies.\r\n",
    "- **Generalization Capability:** The model’s performance on the test set, which was not seen during training or validation, confirms that it **<strong style=\"color:darkgreen;\">generalizes well</strong>**, **<strong style=\"color:darkgreen;\">maintaining a high accuracy</strong>ity.\r\n"
   ]
  },
  {
   "cell_type": "markdown",
   "id": "fcdbfa07-6728-4fd0-b76b-b1e766e0fad9",
   "metadata": {},
   "source": [
    "<div style=\"color:#5C5B5B; border-right: 3px solid #5C5B5B; text-align: right; padding: 0px 7px; font-size: 1.17em; font-weight: bold;\">Conclusion</div>"
   ]
  },
  {
   "cell_type": "markdown",
   "id": "91f6d7fc-d5c7-4c0e-852d-0de6f772266a",
   "metadata": {},
   "source": [
    "It can be said that, the model, with validation integrated into the training process and early stopping, **<strong style=\"color:darkgreen;\">demonstrates effective generalization</strong>** from validation to test datasets. The close alignment between validation and test results indicates that the model's performance during training was a **<strong style=\"color:darkgreen;\">reliable predictor of its behavior on completely new data</strong>**. This validates the use of advanced training techniques like early stopping and learning rate scheduling to enhance model robustness and reliability.s."
   ]
  },
  {
   "cell_type": "markdown",
   "id": "ee570362-98bc-4f1d-8b31-70354cf7c46b",
   "metadata": {},
   "source": [
    "<h3 style=\"text-align: left; font-family: Verdana; font-size: 25px; font-style: italic; color: #333333; margin-top: 0px;\">[Jatin J.]</h3>\n",
    "\n"
   ]
  },
  {
   "cell_type": "markdown",
   "id": "98c47561-63bc-4938-9b1a-8bac89835131",
   "metadata": {},
   "source": [
    "<hr style=\"height: 5px; background: linear-gradient(to right, red, black); border: none;\">\n",
    "\n"
   ]
  }
 ],
 "metadata": {
  "kernelspec": {
   "display_name": "Python 3 (ipykernel)",
   "language": "python",
   "name": "python3"
  },
  "language_info": {
   "codemirror_mode": {
    "name": "ipython",
    "version": 3
   },
   "file_extension": ".py",
   "mimetype": "text/x-python",
   "name": "python",
   "nbconvert_exporter": "python",
   "pygments_lexer": "ipython3",
   "version": "3.10.14"
  }
 },
 "nbformat": 4,
 "nbformat_minor": 5
}
